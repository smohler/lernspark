{
 "cells": [
  {
   "cell_type": "markdown",
   "id": "565ddfb9-c477-499e-8fca-f3693f89d93e",
   "metadata": {},
   "source": [
    "# Lernspark Pipeline Playground\n",
    "\n",
    "This is a jupyter notebook play ground that will allow you to discover differnet types fo SQL commands and basic data engineering and analysis type operations on a sample of a much larger set of data. This is a common day to day task in data engineering analysis. \n",
    "\n",
    "## Prereqs\n",
    "You should only be looking at this notebook after running the command `lernspark-data` and `lernspark-play` this is because this notebook is dependent on some set up to create your example data set zipped up in a `tar.gz` format. **You must run lernspark-data before lernspark-play**"
   ]
  },
  {
   "cell_type": "markdown",
   "id": "fdef3af4-c88d-49e4-ab49-c0cdb56bfc9a",
   "metadata": {},
   "source": [
    "# Part 0: Python Imports\n",
    "\n",
    "For this notebook depending on what other packages you may include you should keep adding `import` statements into this block. It is reocmmended to group all imports into a single cell at the top of a notebook."
   ]
  },
  {
   "cell_type": "code",
   "execution_count": 1,
   "id": "3cbda6ba-f7c9-41a8-94a8-42cdf2a58582",
   "metadata": {},
   "outputs": [],
   "source": [
    "import json\n",
    "import tarfile\n",
    "import os\n",
    "import tempfile\n",
    "import shutil"
   ]
  },
  {
   "cell_type": "markdown",
   "id": "6bedba34-0d0e-4774-8d52-a9d242e01f03",
   "metadata": {},
   "source": [
    "# Part 1: Load Data into Memory\n",
    "\n",
    "The first step will be to extract the data which is stored in `~\\Downloads\\examples.tar.gz` and load it into this notebooks memory. We will extract into the system tmp folder (a common operation) and"
   ]
  },
  {
   "cell_type": "code",
   "execution_count": 7,
   "id": "212fd408-969d-42c3-b671-95f77d5b9e12",
   "metadata": {},
   "outputs": [
    {
     "name": "stdout",
     "output_type": "stream",
     "text": [
      "Extraction completed.\n",
      "Extracted files are located in: /var/folders/b4/f3v6ww_s0_zcm_srr9ndn7jr0000gn/T/tmpa_gqky4z\n",
      "Extracted files:\n",
      "\tFootball_teams.parquet\n"
     ]
    }
   ],
   "source": [
    "# Get the path to the downloads folder\n",
    "downloads_folder = os.path.expanduser(\"~/Downloads\")\n",
    "\n",
    "# Specify the filename of the tar.gz file\n",
    "filename = \"examples.tar.gz\"\n",
    "\n",
    "# Construct the full path to the tar.gz file\n",
    "file_path = os.path.join(downloads_folder, filename)\n",
    "\n",
    "# Create a temporary directory\n",
    "temp_dir = tempfile.mkdtemp()\n",
    "\n",
    "\n",
    "try:\n",
    "    # Open the tar.gz file\n",
    "    with tarfile.open(file_path, \"r:gz\") as tar:\n",
    "        # Extract all files to the temporary directory\n",
    "        tar.extractall(path=temp_dir)\n",
    "    print(\"Extraction completed.\")\n",
    "    print(f\"Extracted files are located in: {temp_dir}\")\n",
    "    \n",
    "    # Get the list of files in the temporary directory\n",
    "    extracted_files = os.listdir(temp_dir)\n",
    "    \n",
    "    # Print the names of the extracted files\n",
    "    print(\"Extracted files:\")\n",
    "    for file_name in extracted_files:\n",
    "        print(f\"\\t{file_name}\")\n",
    "except FileNotFoundError:\n",
    "    print(f\"I can't find {file_path}, you need to run `lernspark-play` to create you data sample zip file\")\n",
    "except tarfile.ReadError:\n",
    "    print(f\"Error reading the tar.gz file: {file_path}\")"
   ]
  },
  {
   "cell_type": "markdown",
   "id": "c74f1b7d-e437-420d-9885-ef6b4a41f1e9",
   "metadata": {},
   "source": [
    "# Part N: Clean-up\n",
    "After we are done with out analysis we need to clean up our disk memory that we have created. While computers have lots and lots of memory today. This practice is good to keep as you never know what your application will be run on!"
   ]
  },
  {
   "cell_type": "code",
   "execution_count": 8,
   "id": "b1aef779-b88e-4d03-a744-547d59009b4a",
   "metadata": {},
   "outputs": [
    {
     "name": "stdout",
     "output_type": "stream",
     "text": [
      "Temporary directory /var/folders/b4/f3v6ww_s0_zcm_srr9ndn7jr0000gn/T/tmpa_gqky4z cleaned up.\n"
     ]
    }
   ],
   "source": [
    "# Clean up the extracted files\n",
    "shutil.rmtree(temp_dir)\n",
    "print(f\"Temporary directory {temp_dir} cleaned up.\")"
   ]
  }
 ],
 "metadata": {
  "kernelspec": {
   "display_name": "Python 3 (ipykernel)",
   "language": "python",
   "name": "python3"
  },
  "language_info": {
   "codemirror_mode": {
    "name": "ipython",
    "version": 3
   },
   "file_extension": ".py",
   "mimetype": "text/x-python",
   "name": "python",
   "nbconvert_exporter": "python",
   "pygments_lexer": "ipython3",
   "version": "3.12.3"
  }
 },
 "nbformat": 4,
 "nbformat_minor": 5
}
