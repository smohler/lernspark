{
 "cells": [
  {
   "cell_type": "markdown",
   "id": "565ddfb9-c477-499e-8fca-f3693f89d93e",
   "metadata": {},
   "source": [
    "# Lernspark Pipeline Playground\n",
    "\n",
    "This is a jupyter notebook play ground that will allow you to discover differnet types fo SQL commands and basic data engineering and analysis type operations on a sample of a much larger set of data. This is a common day to day task in data engineering analysis. \n",
    "\n",
    "## Prereqs\n",
    "You should only be looking at this notebook after running the command `lernspark-data` and `lernspark-play` this is because this notebook is dependent on some set up to create your example data set zipped up in a `tar.gz` format. **You must run lernspark-data before lernspark-play**"
   ]
  },
  {
   "cell_type": "markdown",
   "id": "fdef3af4-c88d-49e4-ab49-c0cdb56bfc9a",
   "metadata": {},
   "source": [
    "# Part 0: Python Imports\n",
    "\n",
    "For this notebook depending on what other packages you may include you should keep adding `import` statements into this block. It is reocmmended to group all imports into a single cell at the top of a notebook."
   ]
  },
  {
   "cell_type": "code",
   "execution_count": 9,
   "id": "7d46f05a-111f-4e42-b061-8669a522600f",
   "metadata": {},
   "outputs": [
    {
     "name": "stdout",
     "output_type": "stream",
     "text": [
      "Requirement already satisfied: pandas in /opt/homebrew/Cellar/jupyterlab/4.1.6_1/libexec/lib/python3.12/site-packages (2.2.2)\n",
      "Collecting pyarrow\n",
      "  Downloading pyarrow-16.1.0-cp312-cp312-macosx_11_0_arm64.whl.metadata (3.0 kB)\n",
      "Collecting fastparquet\n",
      "  Downloading fastparquet-2024.5.0-cp312-cp312-macosx_11_0_arm64.whl.metadata (4.1 kB)\n",
      "Requirement already satisfied: numpy>=1.26.0 in /opt/homebrew/Cellar/jupyterlab/4.1.6_1/libexec/lib/python3.12/site-packages (from pandas) (1.26.4)\n",
      "Requirement already satisfied: python-dateutil>=2.8.2 in /opt/homebrew/Cellar/jupyterlab/4.1.6_1/libexec/lib/python3.12/site-packages (from pandas) (2.9.0.post0)\n",
      "Requirement already satisfied: pytz>=2020.1 in /opt/homebrew/Cellar/jupyterlab/4.1.6_1/libexec/lib/python3.12/site-packages (from pandas) (2024.1)\n",
      "Requirement already satisfied: tzdata>=2022.7 in /opt/homebrew/Cellar/jupyterlab/4.1.6_1/libexec/lib/python3.12/site-packages (from pandas) (2024.1)\n",
      "Collecting cramjam>=2.3 (from fastparquet)\n",
      "  Downloading cramjam-2.8.3-cp312-cp312-macosx_10_12_x86_64.macosx_11_0_arm64.macosx_10_12_universal2.whl.metadata (4.2 kB)\n",
      "Collecting fsspec (from fastparquet)\n",
      "  Downloading fsspec-2024.6.0-py3-none-any.whl.metadata (11 kB)\n",
      "Requirement already satisfied: packaging in /opt/homebrew/Cellar/jupyterlab/4.1.6_1/libexec/lib/python3.12/site-packages (from fastparquet) (24.0)\n",
      "Requirement already satisfied: six>=1.5 in /opt/homebrew/Cellar/jupyterlab/4.1.6_1/libexec/lib/python3.12/site-packages (from python-dateutil>=2.8.2->pandas) (1.16.0)\n",
      "Downloading pyarrow-16.1.0-cp312-cp312-macosx_11_0_arm64.whl (26.0 MB)\n",
      "\u001b[2K   \u001b[38;2;114;156;31m━━━━━━━━━━━━━━━━━━━━━━━━━━━━━━━━━━━━━━━━\u001b[0m \u001b[32m26.0/26.0 MB\u001b[0m \u001b[31m50.0 MB/s\u001b[0m eta \u001b[36m0:00:00\u001b[0mm eta \u001b[36m0:00:01\u001b[0m[36m0:00:01\u001b[0m\n",
      "\u001b[?25hDownloading fastparquet-2024.5.0-cp312-cp312-macosx_11_0_arm64.whl (685 kB)\n",
      "\u001b[2K   \u001b[38;2;114;156;31m━━━━━━━━━━━━━━━━━━━━━━━━━━━━━━━━━━━━━━━━\u001b[0m \u001b[32m685.1/685.1 kB\u001b[0m \u001b[31m45.4 MB/s\u001b[0m eta \u001b[36m0:00:00\u001b[0m\n",
      "\u001b[?25hDownloading cramjam-2.8.3-cp312-cp312-macosx_10_12_x86_64.macosx_11_0_arm64.macosx_10_12_universal2.whl (3.6 MB)\n",
      "\u001b[2K   \u001b[38;2;114;156;31m━━━━━━━━━━━━━━━━━━━━━━━━━━━━━━━━━━━━━━━━\u001b[0m \u001b[32m3.6/3.6 MB\u001b[0m \u001b[31m40.6 MB/s\u001b[0m eta \u001b[36m0:00:00\u001b[0mm eta \u001b[36m0:00:01\u001b[0m[36m0:00:01\u001b[0m\n",
      "\u001b[?25hDownloading fsspec-2024.6.0-py3-none-any.whl (176 kB)\n",
      "\u001b[2K   \u001b[38;2;114;156;31m━━━━━━━━━━━━━━━━━━━━━━━━━━━━━━━━━━━━━━━━\u001b[0m \u001b[32m176.9/176.9 kB\u001b[0m \u001b[31m20.6 MB/s\u001b[0m eta \u001b[36m0:00:00\u001b[0m\n",
      "\u001b[?25hInstalling collected packages: pyarrow, fsspec, cramjam, fastparquet\n",
      "Successfully installed cramjam-2.8.3 fastparquet-2024.5.0 fsspec-2024.6.0 pyarrow-16.1.0\n",
      "Note: you may need to restart the kernel to use updated packages.\n"
     ]
    }
   ],
   "source": [
    "pip install pandas pyarrow fastparquet"
   ]
  },
  {
   "cell_type": "code",
   "execution_count": 10,
   "id": "3cbda6ba-f7c9-41a8-94a8-42cdf2a58582",
   "metadata": {},
   "outputs": [],
   "source": [
    "import json\n",
    "import tarfile\n",
    "import os\n",
    "import tempfile\n",
    "import shutil\n",
    "import pandas as pd"
   ]
  },
  {
   "cell_type": "markdown",
   "id": "6bedba34-0d0e-4774-8d52-a9d242e01f03",
   "metadata": {
    "editable": true,
    "slideshow": {
     "slide_type": ""
    },
    "tags": []
   },
   "source": [
    "# Part 1: Load Data into Memory\n",
    "\n",
    "The first step will be to extract the data which is stored in `~\\Downloads\\examples.tar.gz` and load it into this notebooks memory. We will extract into the system tmp folder (a common operation) and"
   ]
  },
  {
   "cell_type": "code",
   "execution_count": 11,
   "id": "212fd408-969d-42c3-b671-95f77d5b9e12",
   "metadata": {},
   "outputs": [
    {
     "name": "stdout",
     "output_type": "stream",
     "text": [
      "Extraction completed.\n",
      "Extracted files are located in: /var/folders/b4/f3v6ww_s0_zcm_srr9ndn7jr0000gn/T/tmpgtn4b1it\n",
      "Extracted files:\n",
      "\tFootball_teams.parquet\n"
     ]
    }
   ],
   "source": [
    "# Get the path to the downloads folder\n",
    "downloads_folder = os.path.expanduser(\"~/Downloads\")\n",
    "\n",
    "# Specify the filename of the tar.gz file\n",
    "filename = \"examples.tar.gz\"\n",
    "\n",
    "# Construct the full path to the tar.gz file\n",
    "file_path = os.path.join(downloads_folder, filename)\n",
    "\n",
    "# Create a temporary directory\n",
    "temp_dir = tempfile.mkdtemp()\n",
    "\n",
    "\n",
    "try:\n",
    "    # Open the tar.gz file\n",
    "    with tarfile.open(file_path, \"r:gz\") as tar:\n",
    "        # Extract all files to the temporary directory\n",
    "        tar.extractall(path=temp_dir)\n",
    "    print(\"Extraction completed.\")\n",
    "    print(f\"Extracted files are located in: {temp_dir}\")\n",
    "    \n",
    "    # Get the list of files in the temporary directory\n",
    "    extracted_files = os.listdir(temp_dir)\n",
    "    \n",
    "    # Print the names of the extracted files\n",
    "    print(\"Extracted files:\")\n",
    "    for file_name in extracted_files:\n",
    "        print(f\"\\t{file_name}\")\n",
    "except FileNotFoundError:\n",
    "    print(f\"I can't find {file_path}, you need to run `lernspark-play` to create you data sample zip file\")\n",
    "except tarfile.ReadError:\n",
    "    print(f\"Error reading the tar.gz file: {file_path}\")"
   ]
  },
  {
   "cell_type": "markdown",
   "id": "2b486d89-0b4f-49bc-afe7-440058496669",
   "metadata": {},
   "source": [
    "## Load Parquet file into Python Memory\n",
    "Now that we have unzipped the example data we can read it into python using the parquet modules."
   ]
  },
  {
   "cell_type": "code",
   "execution_count": 12,
   "id": "b4231d38-51d5-4dac-9273-1ddd738a8c7c",
   "metadata": {},
   "outputs": [
    {
     "name": "stdout",
     "output_type": "stream",
     "text": [
      "First few rows of the data:\n",
      "   ID                Name\n",
      "0   9  Elinor Satterfield\n",
      "1   9         Marc Walker\n",
      "2  81        Kianna Hoppe\n",
      "3   7        Braulio Wolf\n",
      "4  60          Chad Towne\n",
      "\n",
      "Summary statistics:\n",
      "                 ID\n",
      "count  86254.000000\n",
      "mean      49.976789\n",
      "std       29.210527\n",
      "min        0.000000\n",
      "25%       25.000000\n",
      "50%       50.000000\n",
      "75%       75.000000\n",
      "max      100.000000\n"
     ]
    }
   ],
   "source": [
    "# Pick a file name you want expect printed from above\n",
    "# :: EDIT THIS LINE \n",
    "data_file = \"Football_teams.parquet\"\n",
    "\n",
    "# Specify the path to the extracted Parquet file\n",
    "parquet_file = os.path.join(temp_dir, data_file)\n",
    "\n",
    "try:\n",
    "    # Read the Parquet file into a DataFrame\n",
    "    df = pd.read_parquet(parquet_file)\n",
    "    \n",
    "    # Print the first few rows of the DataFrame\n",
    "    print(\"First few rows of the data:\")\n",
    "    print(df.head())\n",
    "    \n",
    "    # Print the summary statistics of the DataFrame\n",
    "    print(\"\\nSummary statistics:\")\n",
    "    print(df.describe())\n",
    "    \n",
    "    # Explore the data further as needed\n",
    "    # ...\n",
    "except FileNotFoundError:\n",
    "    print(f\"Parquet file not found: {parquet_file}\")\n",
    "except Exception as e:\n",
    "    print(f\"Error loading Parquet file: {str(e)}\")"
   ]
  },
  {
   "cell_type": "markdown",
   "id": "c74f1b7d-e437-420d-9885-ef6b4a41f1e9",
   "metadata": {},
   "source": [
    "# Part N: Clean-up\n",
    "After we are done with out analysis we need to clean up our disk memory that we have created. While computers have lots and lots of memory today. This practice is good to keep as you never know what your application will be run on!"
   ]
  },
  {
   "cell_type": "code",
   "execution_count": 13,
   "id": "b1aef779-b88e-4d03-a744-547d59009b4a",
   "metadata": {},
   "outputs": [
    {
     "name": "stdout",
     "output_type": "stream",
     "text": [
      "Temporary directory /var/folders/b4/f3v6ww_s0_zcm_srr9ndn7jr0000gn/T/tmpgtn4b1it cleaned up.\n"
     ]
    }
   ],
   "source": [
    "# Clean up the extracted files\n",
    "shutil.rmtree(temp_dir)\n",
    "print(f\"Temporary directory {temp_dir} cleaned up.\")"
   ]
  },
  {
   "cell_type": "code",
   "execution_count": null,
   "id": "d6c5ccd0-73ed-45c5-aa46-1236dc95fd9a",
   "metadata": {},
   "outputs": [],
   "source": []
  }
 ],
 "metadata": {
  "kernelspec": {
   "display_name": "Python 3 (ipykernel)",
   "language": "python",
   "name": "python3"
  },
  "language_info": {
   "codemirror_mode": {
    "name": "ipython",
    "version": 3
   },
   "file_extension": ".py",
   "mimetype": "text/x-python",
   "name": "python",
   "nbconvert_exporter": "python",
   "pygments_lexer": "ipython3",
   "version": "3.12.3"
  }
 },
 "nbformat": 4,
 "nbformat_minor": 5
}
